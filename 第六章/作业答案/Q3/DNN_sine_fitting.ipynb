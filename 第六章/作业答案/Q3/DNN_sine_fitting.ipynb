{
 "cells": [
  {
   "cell_type": "markdown",
   "metadata": {},
   "source": [
    "# 使用DNN拟合非线性函数\\n\n",
    "在本Notebook中，我们使用一个简单的具有一个隐藏层的全连接神经网络（DNN）来拟合函数 $y=\\\\sin x$ 。该模型的隐藏层使用ReLU作为激活函数，并选择均方误差（MSE）作为回归任务的损失函数。"
   ]
  },
  {
   "cell_type": "code",
   "metadata": {
    "ExecuteTime": {
     "end_time": "2024-10-04T08:27:54.689682Z",
     "start_time": "2024-10-04T08:27:54.682800Z"
    }
   },
   "source": [
    "# 引入必要的包\n",
    "import numpy as np\n",
    "import torch\n",
    "import torch.nn as nn\n",
    "import torch.optim as optim\n",
    "import matplotlib.pyplot as plt\n"
   ],
   "outputs": [],
   "execution_count": 9
  },
  {
   "metadata": {},
   "cell_type": "markdown",
   "source": [
    "\n",
    "# 第一步：生成输入数据\n",
    "在这里，我们生成区间 [-2π, 2π] 中的$x$值，并对应生成y值为 $\\sin(x)$"
   ]
  },
  {
   "metadata": {
    "ExecuteTime": {
     "end_time": "2024-10-04T08:27:54.725653Z",
     "start_time": "2024-10-04T08:27:54.716262Z"
    }
   },
   "cell_type": "code",
   "source": [
    "x = np.linspace(-2 * np.pi, 2 * np.pi, 1000).reshape(-1, 1)  # 在区间内生成1000个点\n",
    "y = np.sin(x)  # 真实函数为sin(x)\n",
    "\n",
    "# 输出生成的数据以便检查\n",
    "print(\"输入数据 x 的前5个值：\\n\", x[:5])\n",
    "print(\"目标函数 y=sin(x) 的前5个值：\\n\", y[:5])\n",
    "\n",
    "# 将numpy数组转换为PyTorch的张量\n",
    "x_tensor = torch.Tensor(x)\n",
    "y_tensor = torch.Tensor(y)\n",
    "\n",
    "# 输出转换后的张量数据以便检查\n",
    "print(\"转换后的输入张量 x_tensor 的形状：\", x_tensor.shape)\n",
    "print(\"转换后的目标张量 y_tensor 的形状：\", y_tensor.shape)\n"
   ],
   "outputs": [
    {
     "name": "stdout",
     "output_type": "stream",
     "text": [
      "输入数据 x 的前5个值：\n",
      " [[-6.28318531]\n",
      " [-6.27060636]\n",
      " [-6.25802741]\n",
      " [-6.24544846]\n",
      " [-6.23286951]]\n",
      "目标函数 y=sin(x) 的前5个值：\n",
      " [[2.44929360e-16]\n",
      " [1.25786178e-02]\n",
      " [2.51552454e-02]\n",
      " [3.77278927e-02]\n",
      " [5.02945704e-02]]\n",
      "转换后的输入张量 x_tensor 的形状： torch.Size([1000, 1])\n",
      "转换后的目标张量 y_tensor 的形状： torch.Size([1000, 1])\n"
     ]
    }
   ],
   "execution_count": 10
  },
  {
   "metadata": {},
   "cell_type": "markdown",
   "source": [
    "# 第二步：定义DNN模型\n",
    "这个模型包含一个隐藏层，具有10个神经元，并使用ReLU激活函数"
   ]
  },
  {
   "metadata": {
    "ExecuteTime": {
     "end_time": "2024-10-04T08:27:54.764195Z",
     "start_time": "2024-10-04T08:27:54.760550Z"
    }
   },
   "cell_type": "code",
   "source": [
    "class DNN(nn.Module):\n",
    "    def __init__(self):\n",
    "        super(DNN, self).__init__()\n",
    "        self.fc1 = nn.Linear(1, 50)  # 输入层（1维输入）到第一个隐藏层（50个神经元）\n",
    "        self.fc2 = nn.Linear(50, 50) # 第二隐藏层（50个神经元）\n",
    "        self.fc3 = nn.Linear(50, 1)  # 输出层\n",
    "        self.relu = nn.ReLU()        # 使用ReLU激活函数\n",
    "\n",
    "    def forward(self, x):\n",
    "        out = self.fc1(x)\n",
    "        out = self.relu(out)\n",
    "        out = self.fc2(out)\n",
    "        out = self.relu(out)\n",
    "        out = self.fc3(out)\n",
    "        return out\n"
   ],
   "outputs": [],
   "execution_count": 11
  },
  {
   "metadata": {},
   "cell_type": "markdown",
   "source": "# 第三步：初始化模型、损失函数和优化器"
  },
  {
   "metadata": {
    "ExecuteTime": {
     "end_time": "2024-10-04T08:27:54.800233Z",
     "start_time": "2024-10-04T08:27:54.795480Z"
    }
   },
   "cell_type": "code",
   "source": [
    "model = DNN()  # 实例化DNN模型\n",
    "criterion = nn.MSELoss()  # 损失函数：均方误差（MSE）用于回归问题\n",
    "optimizer = optim.Adam(model.parameters(), lr=0.01)  # 优化器：Adam算法\n",
    "\n",
    "# 输出初始化模型结构\n",
    "print(\"初始化模型结构：\\n\", model)\n",
    "\n"
   ],
   "outputs": [
    {
     "name": "stdout",
     "output_type": "stream",
     "text": [
      "初始化模型结构：\n",
      " DNN(\n",
      "  (fc1): Linear(in_features=1, out_features=50, bias=True)\n",
      "  (fc2): Linear(in_features=50, out_features=50, bias=True)\n",
      "  (fc3): Linear(in_features=50, out_features=1, bias=True)\n",
      "  (relu): ReLU()\n",
      ")\n"
     ]
    }
   ],
   "execution_count": 12
  },
  {
   "metadata": {},
   "cell_type": "markdown",
   "source": "# 第四步：训练模型"
  },
  {
   "metadata": {
    "ExecuteTime": {
     "end_time": "2024-10-04T08:27:55.680056Z",
     "start_time": "2024-10-04T08:27:54.870892Z"
    }
   },
   "cell_type": "code",
   "source": [
    "num_epochs = 1000  # 设置训练轮数为1000\n",
    "losses = []  # 用于存储每个epoch的损失值\n",
    "\n",
    "for epoch in range(num_epochs):\n",
    "    # 前向传播：通过模型将x_tensor输入，计算预测的y\n",
    "    outputs = model(x_tensor)\n",
    "    loss = criterion(outputs, y_tensor)  # 计算预测的y与真实y之间的损失\n",
    "    \n",
    "    # 反向传播及优化\n",
    "    optimizer.zero_grad()  # 清零当前batch的梯度\n",
    "    loss.backward()        # 进行反向传播以计算梯度\n",
    "    optimizer.step()       # 使用优化器更新模型参数\n",
    "\n",
    "    # 存储损失值\n",
    "    losses.append(loss.item())\n",
    "\n",
    "    # 每100个epoch打印一次当前的损失值\n",
    "    if (epoch+1) % 100 == 0:\n",
    "        print(f'Epoch [{epoch+1}/{num_epochs}], Loss: {loss.item():.4f}')\n",
    "        # 输出模型预测值的前5个结果\n",
    "        print(\"模型预测的前5个值：\\n\", outputs[:5].detach().numpy())\n",
    "        print(\"真实的目标值前5个值：\\n\", y[:5])\n"
   ],
   "outputs": [
    {
     "name": "stdout",
     "output_type": "stream",
     "text": [
      "Epoch [100/1000], Loss: 0.0496\n",
      "模型预测的前5个值：\n",
      " [[0.8957982 ]\n",
      " [0.8935317 ]\n",
      " [0.89126503]\n",
      " [0.88899857]\n",
      " [0.88673186]]\n",
      "真实的目标值前5个值：\n",
      " [[2.44929360e-16]\n",
      " [1.25786178e-02]\n",
      " [2.51552454e-02]\n",
      " [3.77278927e-02]\n",
      " [5.02945704e-02]]\n",
      "Epoch [200/1000], Loss: 0.0011\n",
      "模型预测的前5个值：\n",
      " [[0.20237572]\n",
      " [0.20971218]\n",
      " [0.21704878]\n",
      " [0.22438549]\n",
      " [0.2317218 ]]\n",
      "真实的目标值前5个值：\n",
      " [[2.44929360e-16]\n",
      " [1.25786178e-02]\n",
      " [2.51552454e-02]\n",
      " [3.77278927e-02]\n",
      " [5.02945704e-02]]\n",
      "Epoch [300/1000], Loss: 0.0002\n",
      "模型预测的前5个值：\n",
      " [[0.06158685]\n",
      " [0.07144013]\n",
      " [0.08129366]\n",
      " [0.09114756]\n",
      " [0.10100096]]\n",
      "真实的目标值前5个值：\n",
      " [[2.44929360e-16]\n",
      " [1.25786178e-02]\n",
      " [2.51552454e-02]\n",
      " [3.77278927e-02]\n",
      " [5.02945704e-02]]\n",
      "Epoch [400/1000], Loss: 0.0002\n",
      "模型预测的前5个值：\n",
      " [[0.04447317]\n",
      " [0.05486887]\n",
      " [0.06526446]\n",
      " [0.07566009]\n",
      " [0.08605577]]\n",
      "真实的目标值前5个值：\n",
      " [[2.44929360e-16]\n",
      " [1.25786178e-02]\n",
      " [2.51552454e-02]\n",
      " [3.77278927e-02]\n",
      " [5.02945704e-02]]\n",
      "Epoch [500/1000], Loss: 0.0009\n",
      "模型预测的前5个值：\n",
      " [[-0.04002328]\n",
      " [-0.02925902]\n",
      " [-0.01849469]\n",
      " [-0.00773025]\n",
      " [ 0.00303414]]\n",
      "真实的目标值前5个值：\n",
      " [[2.44929360e-16]\n",
      " [1.25786178e-02]\n",
      " [2.51552454e-02]\n",
      " [3.77278927e-02]\n",
      " [5.02945704e-02]]\n",
      "Epoch [600/1000], Loss: 0.0001\n",
      "模型预测的前5个值：\n",
      " [[0.02941115]\n",
      " [0.0404088 ]\n",
      " [0.05140676]\n",
      " [0.06240476]\n",
      " [0.07340232]]\n",
      "真实的目标值前5个值：\n",
      " [[2.44929360e-16]\n",
      " [1.25786178e-02]\n",
      " [2.51552454e-02]\n",
      " [3.77278927e-02]\n",
      " [5.02945704e-02]]\n",
      "Epoch [700/1000], Loss: 0.0064\n",
      "模型预测的前5个值：\n",
      " [[0.16751944]\n",
      " [0.1785207 ]\n",
      " [0.1895221 ]\n",
      " [0.2005231 ]\n",
      " [0.2115242 ]]\n",
      "真实的目标值前5个值：\n",
      " [[2.44929360e-16]\n",
      " [1.25786178e-02]\n",
      " [2.51552454e-02]\n",
      " [3.77278927e-02]\n",
      " [5.02945704e-02]]\n",
      "Epoch [800/1000], Loss: 0.0001\n",
      "模型预测的前5个值：\n",
      " [[0.02283698]\n",
      " [0.03412725]\n",
      " [0.04541735]\n",
      " [0.05670714]\n",
      " [0.0679972 ]]\n",
      "真实的目标值前5个值：\n",
      " [[2.44929360e-16]\n",
      " [1.25786178e-02]\n",
      " [2.51552454e-02]\n",
      " [3.77278927e-02]\n",
      " [5.02945704e-02]]\n",
      "Epoch [900/1000], Loss: 0.0001\n",
      "模型预测的前5个值：\n",
      " [[0.02307748]\n",
      " [0.03424317]\n",
      " [0.04540879]\n",
      " [0.05657383]\n",
      " [0.06773943]]\n",
      "真实的目标值前5个值：\n",
      " [[2.44929360e-16]\n",
      " [1.25786178e-02]\n",
      " [2.51552454e-02]\n",
      " [3.77278927e-02]\n",
      " [5.02945704e-02]]\n",
      "Epoch [1000/1000], Loss: 0.0001\n",
      "模型预测的前5个值：\n",
      " [[0.01698303]\n",
      " [0.02845865]\n",
      " [0.03993513]\n",
      " [0.05141094]\n",
      " [0.06288659]]\n",
      "真实的目标值前5个值：\n",
      " [[2.44929360e-16]\n",
      " [1.25786178e-02]\n",
      " [2.51552454e-02]\n",
      " [3.77278927e-02]\n",
      " [5.02945704e-02]]\n"
     ]
    }
   ],
   "execution_count": 13
  },
  {
   "metadata": {},
   "cell_type": "markdown",
   "source": [
    "# 第五步：绘制损失函数随时间的变化\n",
    "该图展示了随着模型训练，损失如何下降"
   ]
  },
  {
   "metadata": {
    "ExecuteTime": {
     "end_time": "2024-10-04T08:29:40.931809Z",
     "start_time": "2024-10-04T08:29:40.860107Z"
    }
   },
   "cell_type": "code",
   "source": [
    "# 设置中文字体以防中文字符无法显示\n",
    "plt.rcParams['font.sans-serif'] = ['SimHei']  # 使用黑体\n",
    "plt.rcParams['axes.unicode_minus'] = False    # 解决坐标轴负号显示问题\n",
    "\n",
    "plt.plot(losses)\n",
    "plt.xlabel('Epoch')\n",
    "plt.ylabel('Loss')\n",
    "plt.title('损失函数随训练过程的变化')\n",
    "plt.show()"
   ],
   "outputs": [
    {
     "data": {
      "text/plain": [
       "<Figure size 640x480 with 1 Axes>"
      ],
      "image/png": "[encoded data removed]"
     },
     "metadata": {},
     "output_type": "display_data"
    }
   ],
   "execution_count": 17
  },
  {
   "metadata": {},
   "cell_type": "markdown",
   "source": [
    "# 第六步：可视化拟合结果\n",
    "训练后，我们使用模型预测y的值，并将其与真实的sin(x)值绘制在一起"
   ]
  },
  {
   "metadata": {
    "ExecuteTime": {
     "end_time": "2024-10-04T08:33:43.854880Z",
     "start_time": "2024-10-04T08:33:43.696566Z"
    }
   },
   "cell_type": "code",
   "source": [
    "with torch.no_grad():  # 禁用梯度计算，进入评估模式\n",
    "    predicted = model(x_tensor).numpy()  # 获取模型预测的y值\n",
    "\n",
    "# 绘制真实函数和模型预测函数\n",
    "plt.plot(x, y, label='真实函数 (sin x)')  # 真实sin(x)曲线\n",
    "plt.plot(x, predicted, label='DNN拟合函数')  # DNN预测的曲线\n",
    "plt.legend()\n",
    "plt.savefig('result.pdf')\n",
    "plt.show()\n"
   ],
   "outputs": [
    {
     "data": {
      "text/plain": [
       "<Figure size 640x480 with 1 Axes>"
      ],
      "image/png": "[encoded data removed]"
     },
     "metadata": {},
     "output_type": "display_data"
    }
   ],
   "execution_count": 19
  }
 ],
 "metadata": {
  "kernelspec": {
   "display_name": "Python 3",
   "language": "python",
   "name": "python3"
  },
  "language_info": {
   "name": "python",
   "version": "3.8"
  }
 },
 "nbformat": 4,
 "nbformat_minor": 2
}
