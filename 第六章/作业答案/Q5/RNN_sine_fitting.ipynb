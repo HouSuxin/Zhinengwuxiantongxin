{
 "cells": [
  {
   "cell_type": "markdown",
   "metadata": {},
   "source": [
    "# 循环神经网络（RNN）实现与正弦函数序列预测\n",
    "\n",
    "本Notebook展示了如何使用PyTorch构建一个简单的RNN模型，并使用正弦函数生成输入序列来预测下一个时间步的值。"
   ],
   "id": "7fb3618c2c8322f5"
  },
  {
   "cell_type": "code",
   "metadata": {
    "ExecuteTime": {
     "end_time": "2024-10-04T08:55:22.312904Z",
     "start_time": "2024-10-04T08:55:22.308438Z"
    }
   },
   "source": [
    "# 导入必要的库\n",
    "import torch\n",
    "import torch.nn as nn\n",
    "import numpy as np\n",
    "import matplotlib.pyplot as plt"
   ],
   "id": "cbf69f675e0f2df1",
   "outputs": [],
   "execution_count": 12
  },
  {
   "cell_type": "markdown",
   "metadata": {},
   "source": [
    "## 生成非线性序列（正弦函数）\n",
    "我们将生成一个长度为50的正弦波序列作为输入数据。"
   ],
   "id": "4a5a2fb4cbe69b74"
  },
  {
   "cell_type": "code",
   "metadata": {
    "ExecuteTime": {
     "end_time": "2024-10-04T08:55:22.322017Z",
     "start_time": "2024-10-04T08:55:22.316413Z"
    }
   },
   "source": [
    "# 定义序列长度\n",
    "seq_length = 1000\n",
    "\n",
    "# 生成时间步（0到8π之间的50个点）\n",
    "t = np.linspace(0, 4 * np.pi, seq_length)\n",
    "\n",
    "# 使用正弦函数生成序列\n",
    "sin_wave = np.sin(t)\n",
    "\n",
    "# 打印生成的序列，查看前几个值\n",
    "print(sin_wave[:5])"
   ],
   "id": "eeb10dcb7d671c34",
   "outputs": [
    {
     "name": "stdout",
     "output_type": "stream",
     "text": [
      "[0.         0.01257862 0.02515525 0.03772789 0.05029457]\n"
     ]
    }
   ],
   "execution_count": 13
  },
  {
   "cell_type": "markdown",
   "metadata": {},
   "source": [
    "## 定义RNN模型\n",
    "我们将创建一个RNN模型，输入维度为1（表示一个时间步的值），输出维度也是1（预测下一个时间步的值）。RNN模型由一个RNN层和一个全连接层组成。"
   ],
   "id": "e51370ef81a9d0cf"
  },
  {
   "cell_type": "code",
   "metadata": {
    "ExecuteTime": {
     "end_time": "2024-10-04T08:55:22.409694Z",
     "start_time": "2024-10-04T08:55:22.402810Z"
    }
   },
   "source": [
    "# 定义RNN模型类\n",
    "class RNN(nn.Module):\n",
    "    def __init__(self):\n",
    "        super(RNN, self).__init__()\n",
    "        self.rnn = nn.RNN(input_size=1, hidden_size=50, batch_first=True)  # RNN层，隐藏层50个神经元\n",
    "        self.fc1 = nn.Linear(50, 50)  # 全连接层1\n",
    "        self.fc2 = nn.Linear(50, 1)   # 全连接层2\n",
    "        self.relu = nn.ReLU()         # 使用ReLU激活函数\n",
    "\n",
    "    def forward(self, x):\n",
    "        h0 = torch.zeros(1, x.size(0), 50)  # 初始化隐藏状态\n",
    "        out, _ = self.rnn(x, h0)  # RNN输出\n",
    "        out = self.fc1(out)  # 全连接层1\n",
    "        out = self.relu(out)\n",
    "        out = self.fc2(out)  # 全连接层2\n",
    "        return out"
   ],
   "id": "38846c9249fca256",
   "outputs": [],
   "execution_count": 14
  },
  {
   "cell_type": "markdown",
   "metadata": {},
   "source": [
    "## 数据预处理\n",
    "我们需要将正弦波数据转换为模型可以接受的格式。具体来说，我们将序列中的每个时间步的值作为输入，将下一个时间步的值作为标签。"
   ],
   "id": "f931a5e8ba659f92"
  },
  {
   "cell_type": "code",
   "metadata": {
    "ExecuteTime": {
     "end_time": "2024-10-04T08:55:22.431835Z",
     "start_time": "2024-10-04T08:55:22.418888Z"
    }
   },
   "source": [
    "# 将正弦波数据转换为列向量\n",
    "sin_wave = sin_wave.reshape(-1, 1)\n",
    "\n",
    "# 创建训练数据和标签\n",
    "train_data = torch.tensor(sin_wave[:-1]).float().unsqueeze(0)  # 输入序列\n",
    "train_labels = torch.tensor(sin_wave[1:]).float().unsqueeze(0)  # 目标序列（滞后1个时间步）\n",
    "\n",
    "# 查看数据维度\n",
    "print(train_data.shape)  # (1, seq_length-1, 1)\n",
    "print(train_labels.shape)  # (1, seq_length-1, 1)"
   ],
   "id": "5c17cda6cfe730bc",
   "outputs": [
    {
     "name": "stdout",
     "output_type": "stream",
     "text": [
      "torch.Size([1, 999, 1])\n",
      "torch.Size([1, 999, 1])\n"
     ]
    }
   ],
   "execution_count": 15
  },
  {
   "cell_type": "markdown",
   "metadata": {},
   "source": [
    "## 模型训练\n",
    "我们将训练RNN模型200个周期，并每隔50个周期打印一次损失值。"
   ],
   "id": "d96a91205bd42378"
  },
  {
   "cell_type": "code",
   "metadata": {
    "ExecuteTime": {
     "end_time": "2024-10-04T08:55:53.294762Z",
     "start_time": "2024-10-04T08:55:22.502959Z"
    }
   },
   "source": [
    "# 超参数定义\n",
    "num_epochs = 1000\n",
    "learning_rate = 0.01\n",
    "\n",
    "# 创建RNN模型\n",
    "model = RNN()\n",
    "\n",
    "# 定义损失函数（均方误差）和优化器（Adam）\n",
    "criterion = nn.MSELoss()\n",
    "optimizer = torch.optim.Adam(model.parameters(), lr=learning_rate)\n",
    "\n",
    "# 开始训练\n",
    "for epoch in range(num_epochs):\n",
    "    # 模型训练模式\n",
    "    model.train()\n",
    "    # 前向传播，计算模型输出\n",
    "    output = model(train_data)\n",
    "    # 计算损失\n",
    "    loss = criterion(output, train_labels)\n",
    "\n",
    "    # 清空梯度\n",
    "    optimizer.zero_grad()\n",
    "    # 反向传播，计算梯度\n",
    "    loss.backward()\n",
    "    # 更新模型参数\n",
    "    optimizer.step()\n",
    "\n",
    "    # 每50个周期打印一次损失值\n",
    "    if (epoch + 1) % 50 == 0:\n",
    "        print(f'Epoch [{epoch+1}/{num_epochs}], Loss: {loss.item():.4f}')"
   ],
   "id": "41d8f457ffda16b3",
   "outputs": [
    {
     "name": "stdout",
     "output_type": "stream",
     "text": [
      "Epoch [50/1000], Loss: 0.0006\n",
      "Epoch [100/1000], Loss: 0.0000\n",
      "Epoch [150/1000], Loss: 0.0000\n",
      "Epoch [200/1000], Loss: 0.0000\n",
      "Epoch [250/1000], Loss: 0.0000\n",
      "Epoch [300/1000], Loss: 0.0000\n",
      "Epoch [350/1000], Loss: 0.0000\n",
      "Epoch [400/1000], Loss: 0.0000\n",
      "Epoch [450/1000], Loss: 0.0000\n",
      "Epoch [500/1000], Loss: 0.0000\n",
      "Epoch [550/1000], Loss: 0.0000\n",
      "Epoch [600/1000], Loss: 0.0000\n",
      "Epoch [650/1000], Loss: 0.0000\n",
      "Epoch [700/1000], Loss: 0.0000\n",
      "Epoch [750/1000], Loss: 0.0000\n",
      "Epoch [800/1000], Loss: 0.0000\n",
      "Epoch [850/1000], Loss: 0.0000\n",
      "Epoch [900/1000], Loss: 0.0000\n",
      "Epoch [950/1000], Loss: 0.0000\n",
      "Epoch [1000/1000], Loss: 0.0000\n"
     ]
    }
   ],
   "execution_count": 16
  },
  {
   "cell_type": "markdown",
   "metadata": {},
   "source": [
    "## 测试并画出RNN输出\n",
    "我们将使用训练数据进行预测，并将RNN输出与真实序列进行对比绘制图形。"
   ],
   "id": "81ca3a8cb1a369d8"
  },
  {
   "cell_type": "code",
   "metadata": {
    "ExecuteTime": {
     "end_time": "2024-10-04T08:58:24.300774Z",
     "start_time": "2024-10-04T08:58:24.149422Z"
    }
   },
   "source": [
    "# 测试模型\n",
    "model.eval()  # 评估模式\n",
    "predicted = model(train_data).detach().numpy().flatten()  # 模型预测输出\n",
    "# 设置中文字体以防中文字符无法显示\n",
    "plt.rcParams['font.sans-serif'] = ['SimHei']  # 使用黑体\n",
    "plt.rcParams['axes.unicode_minus'] = False    # 解决坐标轴负号显示问题\n",
    "# 绘制真实序列与RNN预测序列\n",
    "plt.plot(t[:-1], sin_wave[:-1], 'b-', label='真实序列')  # 真实序列\n",
    "plt.plot(t[:-1], predicted, 'r--', label='RNN输出')  # RNN预测序列\n",
    "\n",
    "plt.legend()\n",
    "plt.xlabel('时间步')\n",
    "plt.ylabel('数值')\n",
    "plt.title('RNN输出 vs 真实序列')\n",
    "\n",
    "plt.savefig('RNNresult.pdf')\n",
    "plt.show()"
   ],
   "id": "1d3c57faa1018ccc",
   "outputs": [
    {
     "data": {
      "text/plain": [
       "<Figure size 640x480 with 1 Axes>"
      ],
      "image/png": "[encoded data removed]"
     },
     "metadata": {},
     "output_type": "display_data"
    }
   ],
   "execution_count": 19
  }
 ],
 "metadata": {
  "kernelspec": {
   "display_name": "Python 3",
   "language": "python",
   "name": "python3"
  },
  "language_info": {
   "codemirror_mode": {
    "name": "ipython",
    "version": 3
   },
   "file_extension": ".py",
   "mimetype": "text/x-python",
   "name": "python",
   "nbconvert_exporter": "python",
   "version": "3.9.12"
  }
 },
 "nbformat": 4,
 "nbformat_minor": 5
}
